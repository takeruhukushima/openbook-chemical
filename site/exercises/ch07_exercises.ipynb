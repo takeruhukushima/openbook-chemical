{
 "cells": [
  {
   "cell_type": "markdown",
   "metadata": {},
   "source": [
    "# Chapter 7 Exercises"
   ]
  },
  {
   "cell_type": "markdown",
   "metadata": {},
   "source": [
    "## Exercises",
    "",
    "1.  [Exercise 7.1] Describe the types of particle interactions that are relevant in chemical reactions.",
    "2.  [Exercise 7.2] Explain how quantum mechanics describes particle interactions.",
    "3.  [Exercise 7.3] Discuss the role of electromagnetic forces in chemical bonding.",
    "4.  [Exercise 7.4] Analyze the weak and strong nuclear forces in the context of chemical reactions.",
    "5.  [Exercise 7.5] Propose an experiment to demonstrate particle interactions in a chemical reaction."
   ]
  }
 ],
 "metadata": {
  "kernelspec": {
   "display_name": "Python 3",
   "language": "python",
   "name": "python3"
  },
  "language_info": {
   "codemirror_mode": {
    "name": "ipython",
    "version": 3
   },
   "file_extension": ".py",
   "mimetype": "text/x-python",
   "name": "python",
   "nbconvert_exporter": "python",
   "pygments_lexer": "ipython3",
   "version": "3.8.5"
  }
 },
 "nbformat": 4,
 "nbformat_minor": 4
}
